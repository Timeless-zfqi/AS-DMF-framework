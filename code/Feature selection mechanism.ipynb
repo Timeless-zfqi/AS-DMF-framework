{
 "cells": [
  {
   "cell_type": "code",
   "execution_count": null,
   "id": "0aac7a0c",
   "metadata": {},
   "outputs": [],
   "source": [
    "import numpy as np\n",
    "import pandas as pd\n",
    "import joblib\n",
    "from numpy import array\n",
    "from joblib import Parallel,delayed\n",
    "from sklearn import metrics\n",
    "from sklearn import model_selection\n",
    "from numpy import loadtxt\n",
    "from sklearn.feature_selection import SelectKBest,VarianceThreshold\n",
    "from minepy import MINE\n",
    "import warnings\n",
    "warnings.filterwarnings(\"ignore\")"
   ]
  },
  {
   "cell_type": "code",
   "execution_count": null,
   "id": "9d4bbca6",
   "metadata": {},
   "outputs": [],
   "source": [
    "# import initial feature set\n",
    "x = np.loadtxt('M7_2w.csv')\n",
    "y = np.loadtxt('y4w.csv')"
   ]
  },
  {
   "cell_type": "markdown",
   "id": "f7684a6d",
   "metadata": {},
   "source": [
    "# Analysis of Variance (ANOVA)"
   ]
  },
  {
   "cell_type": "code",
   "execution_count": null,
   "id": "622e6362",
   "metadata": {},
   "outputs": [],
   "source": [
    "# calculate variances of x\n",
    "selector = VarianceThreshold()\n",
    "se = selector.fit_transform(x)\n",
    "selector.variances_"
   ]
  },
  {
   "cell_type": "code",
   "execution_count": null,
   "id": "65c66c0e",
   "metadata": {},
   "outputs": [],
   "source": [
    "# drop the features with variance < 1e-3\n",
    "de_v = np.where(selector.variances_<1e-3)[0]\n",
    "x_de = np.delete(x,de_v,1)"
   ]
  },
  {
   "cell_type": "markdown",
   "id": "01fed86a",
   "metadata": {},
   "source": [
    "# select the top n features"
   ]
  },
  {
   "cell_type": "code",
   "execution_count": null,
   "id": "1da1cdfd",
   "metadata": {},
   "outputs": [],
   "source": [
    "# pick the first n main features\n",
    "n = 10"
   ]
  },
  {
   "cell_type": "code",
   "execution_count": null,
   "id": "7757a878",
   "metadata": {},
   "outputs": [],
   "source": [
    "# function: calculate MIC\n",
    "def mic(x,y):\n",
    "    m = MINE()\n",
    "    m.compute_score(x,y)\n",
    "    return (m.mic(),0.5)"
   ]
  },
  {
   "cell_type": "code",
   "execution_count": null,
   "id": "fde32ccd",
   "metadata": {},
   "outputs": [],
   "source": [
    "X_selection = SelectKBest(lambda X, Y: tuple(map(tuple,array(list(map(lambda x:mic(x, Y), \n",
    "                    X.T))).T)),k=n).fit_transform(x_de,y)"
   ]
  },
  {
   "cell_type": "markdown",
   "id": "00ae7f2e",
   "metadata": {},
   "source": [
    "# save feature sets"
   ]
  },
  {
   "cell_type": "code",
   "execution_count": null,
   "id": "2870152f",
   "metadata": {},
   "outputs": [],
   "source": [
    "# n = 10\n",
    "np.savetxt('reduction10.csv',X_selection)"
   ]
  },
  {
   "cell_type": "code",
   "execution_count": null,
   "id": "80e31251",
   "metadata": {},
   "outputs": [],
   "source": []
  }
 ],
 "metadata": {
  "kernelspec": {
   "display_name": "Python 3 (ipykernel)",
   "language": "python",
   "name": "python3"
  },
  "language_info": {
   "codemirror_mode": {
    "name": "ipython",
    "version": 3
   },
   "file_extension": ".py",
   "mimetype": "text/x-python",
   "name": "python",
   "nbconvert_exporter": "python",
   "pygments_lexer": "ipython3",
   "version": "3.7.2"
  }
 },
 "nbformat": 4,
 "nbformat_minor": 5
}
