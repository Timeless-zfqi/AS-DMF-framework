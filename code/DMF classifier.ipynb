{
 "cells": [
  {
   "cell_type": "code",
   "execution_count": null,
   "id": "1e57d954",
   "metadata": {},
   "outputs": [],
   "source": [
    "import numpy as np\n",
    "from numpy import array\n",
    "import pandas as pd\n",
    "import joblib\n",
    "from sklearn import metrics\n",
    "from sklearn import model_selection\n",
    "from numpy import loadtxt\n",
    "from sklearn.naive_bayes import GaussianNB\n",
    "from sklearn.linear_model import LogisticRegression\n",
    "from sklearn.ensemble import RandomForestClassifier\n",
    "from xgboost import XGBClassifier\n",
    "from sklearn.pipeline import make_pipeline \n",
    "from mlxtend.classifier import StackingClassifier\n",
    "from sklearn.model_selection import train_test_split,cross_val_score,KFold,cross_validate\n",
    "from sklearn.metrics import precision_score,accuracy_score,roc_auc_score,recall_score,confusion_matrix,f1_score\n",
    "from mlxtend.feature_selection import ColumnSelector\n",
    "import warnings\n",
    "warnings.filterwarnings(\"ignore\")"
   ]
  },
  {
   "cell_type": "code",
   "execution_count": null,
   "id": "49ebe02e",
   "metadata": {},
   "outputs": [],
   "source": [
    "def model_train(str,data_x,data_y):\n",
    "    result=[]\n",
    "    x_train,x_test,y_train,y_test = train_test_split(data_x,data_y,test_size=0.3,stratify=y,random_state=10)\n",
    "    model = str.fit(x_train,y_train)\n",
    "    y_predict = model.predict(x_test)\n",
    "    conf = confusion_matrix(y_test,y_predict)\n",
    "    tn, fp, fn, tp = confusion_matrix(y_test, y_predict).ravel()\n",
    "    print(conf)\n",
    "    print('Accuracy score: ',accuracy_score(y_test, y_predict))\n",
    "    print('Recall score: ', recall_score(y_test, y_predict))\n",
    "    print('Precision score: ', precision_score(y_test, y_predict))\n",
    "    print('f1 score: ', f1_score(y_test, y_predict))\n",
    "    print('FPR:',fp/(fp+tn))\n",
    "    result = [accuracy_score(y_test, y_predict),precision_score(y_test, y_predict),recall_score(y_test, y_predict),\n",
    "              f1_score(y_test, y_predict),fp/(fp+tn)]\n",
    "    return result"
   ]
  },
  {
   "cell_type": "code",
   "execution_count": null,
   "id": "f7c8680a",
   "metadata": {},
   "outputs": [],
   "source": [
    "# import dataset\n",
    "X = loadtxt('M7_2w.csv')\n",
    "y = loadtxt('y4w.csv')"
   ]
  },
  {
   "cell_type": "code",
   "execution_count": null,
   "id": "b3813caf",
   "metadata": {},
   "outputs": [],
   "source": [
    "# define sub-classifier\n",
    "clf = RandomForestClassifier(oob_score=True,n_jobs=-1)\n",
    "xgb = XGBClassifier(eval_metric=['logloss','auc','error'],max_depth=12,n_jobs=-1)\n",
    "gnb = GaussianNB()"
   ]
  },
  {
   "cell_type": "code",
   "execution_count": null,
   "id": "daa74432",
   "metadata": {},
   "outputs": [],
   "source": [
    "# define DMF classifier\n",
    "def model(num):\n",
    "    sclf = RandomForestClassifier(max_depth=12,n_estimators=100,oob_score=True,n_jobs=-1)\n",
    "    sxgb = XGBClassifier(eval_metric=['logloss','auc','error'],max_depth=12,n_estimators=120,n_jobs=-1)\n",
    "    sgnb = GaussianNB()\n",
    "    pipe1 = make_pipeline(ColumnSelector(cols=range(num)),sclf)\n",
    "\n",
    "    pipe2 = make_pipeline(ColumnSelector(cols=range(num)),sxgb)\n",
    "\n",
    "    pipe3 = make_pipeline(ColumnSelector(cols=range(num)),sgnb)\n",
    "\n",
    "    stack = StackingClassifier(classifiers=[pipe1,pipe2,pipe3], meta_classifier=LogisticRegression(solver=\"lbfgs\",class_weight = 'balanced'))\n",
    "    return stack"
   ]
  },
  {
   "cell_type": "markdown",
   "id": "c80fae7d",
   "metadata": {},
   "source": [
    "# Before feature reduction："
   ]
  },
  {
   "cell_type": "code",
   "execution_count": null,
   "id": "24291c5f",
   "metadata": {},
   "outputs": [],
   "source": [
    "%%time\n",
    "stack1 = model_train(model(X.shape[1]),X,y)"
   ]
  },
  {
   "cell_type": "markdown",
   "id": "8e1c6206",
   "metadata": {},
   "source": [
    "# After feature reduction："
   ]
  },
  {
   "cell_type": "markdown",
   "id": "542201b4",
   "metadata": {},
   "source": [
    "# F10 results"
   ]
  },
  {
   "cell_type": "code",
   "execution_count": null,
   "id": "8d024983",
   "metadata": {},
   "outputs": [],
   "source": [
    "# DMF performance\n",
    "X10 = loadtxt('reduction10.csv')\n",
    "\n",
    "%time stack10 = model_train(model(10),X10,y)"
   ]
  },
  {
   "cell_type": "code",
   "execution_count": null,
   "id": "fe54e7f5",
   "metadata": {},
   "outputs": [],
   "source": [
    "# compare sub-classifier with DMF\n",
    "print('X10: clf')\n",
    "c10 = model_train(clf,X10,y)\n",
    "print('\\n','xgb')\n",
    "x10 = model_train(clf,X10,y)\n",
    "print('\\n','gnb')\n",
    "g10 = model_train(clf,X10,y)"
   ]
  },
  {
   "cell_type": "markdown",
   "id": "94aec31c",
   "metadata": {},
   "source": [
    "# F15 results"
   ]
  },
  {
   "cell_type": "code",
   "execution_count": null,
   "id": "37c68c9b",
   "metadata": {},
   "outputs": [],
   "source": [
    "X15 = loadtxt('reduction15.csv')\n",
    "\n",
    "%time stack15 = model_train(model(15),X15,y)"
   ]
  },
  {
   "cell_type": "markdown",
   "id": "ea415504",
   "metadata": {},
   "source": [
    "# F20 results"
   ]
  },
  {
   "cell_type": "code",
   "execution_count": null,
   "id": "6ba816d1",
   "metadata": {},
   "outputs": [],
   "source": [
    "X20 = np.loadtxt('reduction20.csv')\n",
    "\n",
    "%time stack20 = model_train(model(20),X20,y)"
   ]
  },
  {
   "cell_type": "markdown",
   "id": "b40190ee",
   "metadata": {},
   "source": [
    "# F25 results"
   ]
  },
  {
   "cell_type": "code",
   "execution_count": null,
   "id": "7bdec31a",
   "metadata": {},
   "outputs": [],
   "source": [
    "X25 = np.loadtxt('reduction25.csv')\n",
    "\n",
    "%time stack25 = model_train(model(25),X25,y)"
   ]
  },
  {
   "cell_type": "markdown",
   "id": "6e37a4e2",
   "metadata": {},
   "source": [
    "# F30 results"
   ]
  },
  {
   "cell_type": "code",
   "execution_count": null,
   "id": "16d3d290",
   "metadata": {},
   "outputs": [],
   "source": [
    "X30 = np.loadtxt('reduction30.csv')\n",
    "\n",
    "%time stack30 = model_train(model(30),X30,y)"
   ]
  },
  {
   "cell_type": "markdown",
   "id": "93204f22",
   "metadata": {},
   "source": [
    "# F35 results"
   ]
  },
  {
   "cell_type": "code",
   "execution_count": null,
   "id": "98c715bc",
   "metadata": {},
   "outputs": [],
   "source": [
    "X35 = np.loadtxt('reduction35.csv')\n",
    "\n",
    "%time stack35 = model_train(model(35),X35,y)"
   ]
  },
  {
   "cell_type": "markdown",
   "id": "40fcb680",
   "metadata": {},
   "source": [
    "# F40 result"
   ]
  },
  {
   "cell_type": "code",
   "execution_count": null,
   "id": "66245ae9",
   "metadata": {},
   "outputs": [],
   "source": [
    "X40 = np.loadtxt('reduction40.csv')\n",
    "\n",
    "%time stack40 = model_train(model(40),X40,y)"
   ]
  },
  {
   "cell_type": "markdown",
   "id": "3edf87f0",
   "metadata": {},
   "source": [
    "# F45 result"
   ]
  },
  {
   "cell_type": "code",
   "execution_count": null,
   "id": "e0722986",
   "metadata": {},
   "outputs": [],
   "source": [
    "X45 = np.loadtxt('reduction45.csv')\n",
    "\n",
    "%time stack45 = model_train(model(45),X45,y)"
   ]
  },
  {
   "cell_type": "markdown",
   "id": "75a0dc9b",
   "metadata": {},
   "source": [
    "# F50 result"
   ]
  },
  {
   "cell_type": "code",
   "execution_count": null,
   "id": "91599b29",
   "metadata": {},
   "outputs": [],
   "source": [
    "X50 = np.loadtxt('reduction50.csv')\n",
    "\n",
    "%time stack50 = model_train(model(50),X50,y)"
   ]
  },
  {
   "cell_type": "code",
   "execution_count": null,
   "id": "d1ade79f",
   "metadata": {},
   "outputs": [],
   "source": []
  }
 ],
 "metadata": {
  "kernelspec": {
   "display_name": "Python 3 (ipykernel)",
   "language": "python",
   "name": "python3"
  },
  "language_info": {
   "codemirror_mode": {
    "name": "ipython",
    "version": 3
   },
   "file_extension": ".py",
   "mimetype": "text/x-python",
   "name": "python",
   "nbconvert_exporter": "python",
   "pygments_lexer": "ipython3",
   "version": "3.7.2"
  }
 },
 "nbformat": 4,
 "nbformat_minor": 5
}
