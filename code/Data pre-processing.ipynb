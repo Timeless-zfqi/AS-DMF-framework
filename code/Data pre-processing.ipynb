{
 "cells": [
  {
   "cell_type": "code",
   "execution_count": null,
   "id": "265e1dec",
   "metadata": {},
   "outputs": [],
   "source": [
    "import numpy as np\n",
    "import pandas as pd\n",
    "import zat\n",
    "from zat.log_to_dataframe import LogToDataFrame\n",
    "from zat.dataframe_to_matrix import DataFrameToMatrix\n",
    "from sklearn.feature_extraction.text import CountVectorizer,TfidfTransformer\n",
    "from sklearn import metrics\n",
    "from sklearn import model_selection\n",
    "import warnings\n",
    "warnings.filterwarnings(\"ignore\")"
   ]
  },
  {
   "cell_type": "code",
   "execution_count": null,
   "id": "87a4ccf7",
   "metadata": {},
   "outputs": [],
   "source": [
    "# Read log in python\n",
    "def data_select(path1,path2,path3):\n",
    "    log_to_df = LogToDataFrame()\n",
    "    df_conn = log_to_df.create_dataframe(path1)\n",
    "    df_ssl = log_to_df.create_dataframe(path2)\n",
    "    df_flow = log_to_df.create_dataframe(path3)\n",
    "    print('Read in conn {:d} Rows...'.format(len(df_conn)))\n",
    "    print('Read in ssl {:d} Rows...'.format(len(df_ssl)))\n",
    "    print('Read in flowmeter {:d} Rows...'.format(len(df_flow)))\n",
    "    \n",
    "    # Feature selection\n",
    "    df_conn['uid_length'] =df_conn['uid'].str.len()\n",
    "    features_conn = ['uid','orig_bytes','service', 'resp_bytes','conn_state',\n",
    "                      'missed_bytes','orig_pkts','orig_ip_bytes','resp_pkts','resp_ip_bytes']\n",
    "    feature_df_conn = df_conn[features_conn]\n",
    "\n",
    "    df_ssl['uid_length'] = df_ssl['uid'].str.len()\n",
    "    features_ssl = ['uid','curve','resumed','established','client_cert_chain_fuids','version',\n",
    "                     'cipher','subject','issuer']\n",
    "    feature_df_ssl= df_ssl[features_ssl]\n",
    "\n",
    "    df_flow['uid_length'] = df_flow['uid'].str.len()\n",
    "    features_flow = ['uid','flow_duration','fwd_pkts_tot','bwd_pkts_tot','fwd_data_pkts_tot','bwd_data_pkts_tot','fwd_pkts_per_sec','bwd_pkts_per_sec','flow_pkts_per_sec',\n",
    "             'down_up_ratio','fwd_header_size_tot','fwd_header_size_min','fwd_header_size_max','bwd_header_size_tot','bwd_header_size_min','bwd_header_size_max',\n",
    "             'flow_FIN_flag_count','flow_SYN_flag_count','flow_RST_flag_count','fwd_PSH_flag_count','bwd_PSH_flag_count','flow_ACK_flag_count',\n",
    "             'fwd_URG_flag_count','bwd_URG_flag_count','flow_CWR_flag_count','flow_ECE_flag_count',\n",
    "             'fwd_pkts_payload.max','fwd_pkts_payload.min','fwd_pkts_payload.tot','fwd_pkts_payload.avg','fwd_pkts_payload.std',\n",
    "             'bwd_pkts_payload.max','bwd_pkts_payload.min','bwd_pkts_payload.tot','bwd_pkts_payload.avg','bwd_pkts_payload.std',\n",
    "             'flow_pkts_payload.min','flow_pkts_payload.max','flow_pkts_payload.tot','flow_pkts_payload.avg','flow_pkts_payload.std',\n",
    "             'fwd_iat.min','fwd_iat.max', 'fwd_iat.tot','fwd_iat.avg','fwd_iat.std','bwd_iat.max','bwd_iat.min','bwd_iat.tot','bwd_iat.avg','bwd_iat.std',\n",
    "             'flow_iat.min','flow_iat.max','flow_iat.tot','flow_iat.avg','flow_iat.std','payload_bytes_per_second','fwd_subflow_pkts','bwd_subflow_pkts','fwd_subflow_bytes','bwd_subflow_bytes',\n",
    "             'fwd_bulk_bytes','bwd_bulk_bytes','fwd_bulk_packets','bwd_bulk_packets','fwd_bulk_rate','bwd_bulk_rate','active.min','active.max','active.tot','active.avg','active.std',\n",
    "             'idle.min','idle.max','idle.tot','idle.avg','idle.std','fwd_init_window_size','bwd_init_window_size','fwd_last_window_size','bwd_last_window_size']\n",
    "    feature_df_flow = df_flow[features_flow]\n",
    "    # merge features with uid\n",
    "    df_f1 =  pd.merge(feature_df_flow,feature_df_conn,how='outer',on='uid')\n",
    "    df_fsm=  pd.merge(df_f1,feature_df_ssl,how='outer',on='uid')\n",
    "    # only TLS flows\n",
    "    df_onlytls = df_fsm.dropna(subset=['version'])\n",
    "    # make sure a complete TLS connection\n",
    "    df_onlytls1 = df_onlytls.query(\"established == 'T'\")\n",
    "    print(df_onlytls.shape,df_onlytls1.shape)\n",
    "    return df_onlytls1"
   ]
  },
  {
   "cell_type": "code",
   "execution_count": null,
   "id": "639cb808",
   "metadata": {},
   "outputs": [],
   "source": [
    "# give the path of each log file\n",
    "path1 = r\".../conn.log\"\n",
    "path2 = r\".../ssl.log\"\n",
    "path3 = r\".../flowmeter.log\""
   ]
  },
  {
   "cell_type": "markdown",
   "id": "1c86d3f6",
   "metadata": {},
   "source": [
    "# malware family"
   ]
  },
  {
   "cell_type": "markdown",
   "id": "084c5590",
   "metadata": {},
   "source": [
    "# Dridex"
   ]
  },
  {
   "cell_type": "code",
   "execution_count": null,
   "id": "6ced2302",
   "metadata": {},
   "outputs": [],
   "source": [
    "Dridex = data_select(path1,path2,path3)"
   ]
  },
  {
   "cell_type": "code",
   "execution_count": null,
   "id": "c2c1fb9c",
   "metadata": {},
   "outputs": [],
   "source": [
    "Dridex = Dridex.iloc[:4969,:]"
   ]
  },
  {
   "cell_type": "markdown",
   "id": "a205262c",
   "metadata": {},
   "source": [
    "# Tickbot"
   ]
  },
  {
   "cell_type": "code",
   "execution_count": null,
   "id": "1a709442",
   "metadata": {},
   "outputs": [],
   "source": [
    "Tickbot = data_select(path1,path2,path3)"
   ]
  },
  {
   "cell_type": "code",
   "execution_count": null,
   "id": "51008428",
   "metadata": {},
   "outputs": [],
   "source": [
    "Tickbot = Tickbot.iloc[:5045,:]"
   ]
  },
  {
   "cell_type": "markdown",
   "id": "e193249b",
   "metadata": {},
   "source": [
    "# T-Rasftuby"
   ]
  },
  {
   "cell_type": "code",
   "execution_count": null,
   "id": "a0526bc0",
   "metadata": {},
   "outputs": [],
   "source": [
    "TRasftuby = data_select(path1,path2,path3)"
   ]
  },
  {
   "cell_type": "markdown",
   "id": "1fecfcd4",
   "metadata": {},
   "source": [
    "# Dyname"
   ]
  },
  {
   "cell_type": "code",
   "execution_count": null,
   "id": "92d7e5d9",
   "metadata": {},
   "outputs": [],
   "source": [
    "Dyname = data_select(path1,path2,path3)"
   ]
  },
  {
   "cell_type": "code",
   "execution_count": null,
   "id": "749bd15f",
   "metadata": {},
   "outputs": [],
   "source": [
    "Dyname = Dyname.iloc[:5154,:]"
   ]
  },
  {
   "cell_type": "markdown",
   "id": "d202250d",
   "metadata": {},
   "source": [
    "# Bunitu"
   ]
  },
  {
   "cell_type": "code",
   "execution_count": null,
   "id": "5b6c6b7e",
   "metadata": {},
   "outputs": [],
   "source": [
    "Bunitu = data_select(path1,path2,path3)"
   ]
  },
  {
   "cell_type": "markdown",
   "id": "a8ec9e21",
   "metadata": {},
   "source": [
    "# Cobalt"
   ]
  },
  {
   "cell_type": "code",
   "execution_count": null,
   "id": "4ad1e75d",
   "metadata": {},
   "outputs": [],
   "source": [
    "Cobalt = data_select(path1,path2,path3)"
   ]
  },
  {
   "cell_type": "markdown",
   "id": "020bdb41",
   "metadata": {},
   "source": [
    "# Yakes"
   ]
  },
  {
   "cell_type": "code",
   "execution_count": null,
   "id": "5016bbf1",
   "metadata": {},
   "outputs": [],
   "source": [
    "Yakes = data_select(path1,path2,path3)"
   ]
  },
  {
   "cell_type": "markdown",
   "id": "399b1a08",
   "metadata": {},
   "source": [
    "# Normal"
   ]
  },
  {
   "cell_type": "code",
   "execution_count": null,
   "id": "171ddeb2",
   "metadata": {},
   "outputs": [],
   "source": [
    "Normal = data_select(path1,path2,path3)"
   ]
  },
  {
   "cell_type": "code",
   "execution_count": null,
   "id": "a270e467",
   "metadata": {},
   "outputs": [],
   "source": [
    "Normal = Normal.iloc[:20000,:]"
   ]
  },
  {
   "cell_type": "markdown",
   "id": "c42faf59",
   "metadata": {},
   "source": [
    "# Create feature set"
   ]
  },
  {
   "cell_type": "code",
   "execution_count": null,
   "id": "5c097ee8",
   "metadata": {},
   "outputs": [],
   "source": [
    "df_malware = pd.concat([Dridex,Tickbot,TRasftuby,Dyname,Bunitu,Cobalt,Yakes],axis=0)\n",
    "df_normal = Normal\n",
    "df = pd.concat([df_malware,df_normal],axis=0)\n",
    "print('Malware size: {:d}'.format(len(df_malware)))\n",
    "print('Normal size: {:d}'.format(len(df_normal)))"
   ]
  },
  {
   "cell_type": "markdown",
   "id": "b3638926",
   "metadata": {},
   "source": [
    "# labeled"
   ]
  },
  {
   "cell_type": "code",
   "execution_count": null,
   "id": "e20c868b",
   "metadata": {},
   "outputs": [],
   "source": [
    "y = np.hstack((np.full((1,len(df_malware)),-1),np.full((1,len(df_normal)),1))).T\n",
    "y = y.ravel()"
   ]
  },
  {
   "cell_type": "markdown",
   "id": "364f67f8",
   "metadata": {},
   "source": [
    "# Feature standardization"
   ]
  },
  {
   "cell_type": "code",
   "execution_count": null,
   "id": "47d8e723",
   "metadata": {},
   "outputs": [],
   "source": [
    "to_matrix = zat.dataframe_to_matrix.DataFrameToMatrix()\n",
    "x1 = to_matrix.fit_transform(df.drop(['uid','cipher','subject','issuer'],axis=1))"
   ]
  },
  {
   "cell_type": "markdown",
   "id": "5e2ff277",
   "metadata": {},
   "source": [
    "# encoding"
   ]
  },
  {
   "cell_type": "code",
   "execution_count": null,
   "id": "e4737b99",
   "metadata": {},
   "outputs": [],
   "source": [
    "df_cipher = df['cipher']\n",
    "ccv = CountVectorizer()\n",
    "ccv_fit=ccv.fit_transform(df_cipher)\n",
    "x2 = ccv_fit.toarray()\n",
    "print(x2.shape)"
   ]
  },
  {
   "cell_type": "code",
   "execution_count": null,
   "id": "1308ade5",
   "metadata": {},
   "outputs": [],
   "source": [
    "# TF-IDF\n",
    "df_subject = df['subject'].values.astype('U')\n",
    "stopWord_list = [',','CN=','OU=','O=','L=','ST=','C=']\n",
    "tfidf = TfidfVectorizer(max_df =0.9,min_df = 0.003,stop_words=stopWord_list)\n",
    "arr_subject = tfidf.fit_transform(df_subject).toarray()\n",
    "print(arr_subject.shape,'\\n',arr_subject)\n",
    "x3 = arr_subject"
   ]
  },
  {
   "cell_type": "code",
   "execution_count": null,
   "id": "5128f016",
   "metadata": {},
   "outputs": [],
   "source": [
    "# TF-IDF\n",
    "df_issuer = df['issuer'].values.astype('U')\n",
    "stopWord_list = [',','CN=','OU=','O=','L=','ST=','C=']\n",
    "tfidf = TfidfVectorizer(max_df =0.9,min_df = 0.003,stop_words=stopWord_list)\n",
    "arr_issuer = tfidf.fit_transform(df_issuer).toarray()\n",
    "print(arr_issuer.shape,'\\n',arr_issuer)\n",
    "x4 = arr_issuer"
   ]
  },
  {
   "cell_type": "markdown",
   "id": "e43d99c7",
   "metadata": {},
   "source": [
    "# Merge"
   ]
  },
  {
   "cell_type": "code",
   "execution_count": null,
   "id": "bec2bc14",
   "metadata": {},
   "outputs": [],
   "source": [
    "X = np.concatenate((x1,x2,x3,x4),axis=1)"
   ]
  },
  {
   "cell_type": "markdown",
   "id": "cdd31b04",
   "metadata": {},
   "source": [
    "# save as .csv"
   ]
  },
  {
   "cell_type": "code",
   "execution_count": null,
   "id": "965b93c4",
   "metadata": {},
   "outputs": [],
   "source": [
    "np.savetxt('M7_2w.csv',X)\n",
    "np.savetxt('y4w.csv',y)"
   ]
  }
 ],
 "metadata": {
  "kernelspec": {
   "display_name": "Python 3",
   "language": "python",
   "name": "python3"
  },
  "language_info": {
   "codemirror_mode": {
    "name": "ipython",
    "version": 3
   },
   "file_extension": ".py",
   "mimetype": "text/x-python",
   "name": "python",
   "nbconvert_exporter": "python",
   "pygments_lexer": "ipython3",
   "version": "3.7.2"
  }
 },
 "nbformat": 4,
 "nbformat_minor": 5
}
